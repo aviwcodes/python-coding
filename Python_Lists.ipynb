{
  "nbformat": 4,
  "nbformat_minor": 0,
  "metadata": {
    "colab": {
      "provenance": [],
      "collapsed_sections": []
    },
    "kernelspec": {
      "name": "python3",
      "display_name": "Python 3"
    },
    "language_info": {
      "name": "python"
    }
  },
  "cells": [
    {
      "cell_type": "markdown",
      "source": [
        "###What is a python list?\n",
        "It stores a series of elements/items in specified order. \n"
      ],
      "metadata": {
        "id": "Vn3agyo59Uep"
      }
    },
    {
      "cell_type": "markdown",
      "source": [
        "###Create lists\n",
        "Use square brackets to create list. Specify items seperated by comma."
      ],
      "metadata": {
        "id": "485u_ilD-lsD"
      }
    },
    {
      "cell_type": "code",
      "source": [
        "#Empty list\n",
        "numbers=[]\n",
        "numbers"
      ],
      "metadata": {
        "colab": {
          "base_uri": "https://localhost:8080/"
        },
        "id": "4WmCO6JG9d0e",
        "outputId": "4bda687d-5d2f-460b-ce4b-2b76314e081b"
      },
      "execution_count": 140,
      "outputs": [
        {
          "output_type": "execute_result",
          "data": {
            "text/plain": [
              "[]"
            ]
          },
          "metadata": {},
          "execution_count": 140
        }
      ]
    },
    {
      "cell_type": "code",
      "source": [
        "#List with items\n",
        "numbers=[10,20,30,40,5060,45,89,10,2,0]\n",
        "numbers\n"
      ],
      "metadata": {
        "colab": {
          "base_uri": "https://localhost:8080/"
        },
        "id": "_psR6PwW-bFx",
        "outputId": "2770467b-f20b-4c9c-f1ca-6093aace81be"
      },
      "execution_count": 141,
      "outputs": [
        {
          "output_type": "execute_result",
          "data": {
            "text/plain": [
              "[10, 20, 30, 40, 5060, 45, 89, 10, 2, 0]"
            ]
          },
          "metadata": {},
          "execution_count": 141
        }
      ]
    },
    {
      "cell_type": "markdown",
      "source": [
        "###Length of list"
      ],
      "metadata": {
        "id": "e8l3ix03En_d"
      }
    },
    {
      "cell_type": "code",
      "source": [
        "#Find number of items in list\n",
        "len(numbers)"
      ],
      "metadata": {
        "colab": {
          "base_uri": "https://localhost:8080/"
        },
        "id": "I3Mwk-z_EsOx",
        "outputId": "08f500fc-7ad0-44ac-ce9b-bc644ab2da0b"
      },
      "execution_count": 142,
      "outputs": [
        {
          "output_type": "execute_result",
          "data": {
            "text/plain": [
              "10"
            ]
          },
          "metadata": {},
          "execution_count": 142
        }
      ]
    },
    {
      "cell_type": "markdown",
      "source": [
        "###Access list items\n",
        "Access items using index in square brackets."
      ],
      "metadata": {
        "id": "goo3nV75-yEL"
      }
    },
    {
      "cell_type": "code",
      "source": [
        "#Get first item\n",
        "numbers[0]"
      ],
      "metadata": {
        "colab": {
          "base_uri": "https://localhost:8080/"
        },
        "id": "xdhEom4o_D3E",
        "outputId": "6e4fec3f-37f9-42bb-fe15-06ada8dc2f43"
      },
      "execution_count": 143,
      "outputs": [
        {
          "output_type": "execute_result",
          "data": {
            "text/plain": [
              "10"
            ]
          },
          "metadata": {},
          "execution_count": 143
        }
      ]
    },
    {
      "cell_type": "code",
      "source": [
        "#Get third item\n",
        "\n",
        "numbers[2]"
      ],
      "metadata": {
        "colab": {
          "base_uri": "https://localhost:8080/"
        },
        "id": "Eyvti0_a_NRC",
        "outputId": "885dcb71-7cc3-4012-b3e6-eef6701f8ecd"
      },
      "execution_count": 144,
      "outputs": [
        {
          "output_type": "execute_result",
          "data": {
            "text/plain": [
              "30"
            ]
          },
          "metadata": {},
          "execution_count": 144
        }
      ]
    },
    {
      "cell_type": "code",
      "source": [
        "#Get last item\n",
        "numbers[len(numbers)-1]\n"
      ],
      "metadata": {
        "colab": {
          "base_uri": "https://localhost:8080/"
        },
        "id": "NQ2-5zY0_Q91",
        "outputId": "7b01aa4e-53d9-4ae0-fc43-c0541488b565"
      },
      "execution_count": 145,
      "outputs": [
        {
          "output_type": "execute_result",
          "data": {
            "text/plain": [
              "0"
            ]
          },
          "metadata": {},
          "execution_count": 145
        }
      ]
    },
    {
      "cell_type": "code",
      "source": [
        "numbers[-1]"
      ],
      "metadata": {
        "colab": {
          "base_uri": "https://localhost:8080/"
        },
        "id": "YKjZlIFjPVnt",
        "outputId": "cd899bae-fd06-42db-df15-db90e7014ec6"
      },
      "execution_count": 146,
      "outputs": [
        {
          "output_type": "execute_result",
          "data": {
            "text/plain": [
              "0"
            ]
          },
          "metadata": {},
          "execution_count": 146
        }
      ]
    },
    {
      "cell_type": "code",
      "source": [
        "#Get 2nd last item\n",
        "numbers[-2]"
      ],
      "metadata": {
        "colab": {
          "base_uri": "https://localhost:8080/"
        },
        "id": "t1_nZ5uj_TLv",
        "outputId": "84287aff-026b-477a-f0b6-5b62d4310bd1"
      },
      "execution_count": 147,
      "outputs": [
        {
          "output_type": "execute_result",
          "data": {
            "text/plain": [
              "2"
            ]
          },
          "metadata": {},
          "execution_count": 147
        }
      ]
    },
    {
      "cell_type": "markdown",
      "source": [
        "###Traversing a list"
      ],
      "metadata": {
        "id": "E6APHFEVGNfz"
      }
    },
    {
      "cell_type": "code",
      "source": [
        "#Looping list\n",
        "for i in range(0,len(numbers)):\n",
        "  print(numbers[i], end=' ')"
      ],
      "metadata": {
        "colab": {
          "base_uri": "https://localhost:8080/"
        },
        "id": "iNHsoMKUGPzX",
        "outputId": "8ae351a9-004c-4548-ac28-8a3765f8310e"
      },
      "execution_count": 148,
      "outputs": [
        {
          "output_type": "stream",
          "name": "stdout",
          "text": [
            "10 20 30 40 5060 45 89 10 2 0 "
          ]
        }
      ]
    },
    {
      "cell_type": "code",
      "source": [
        "for no in numbers:\n",
        "  print(no)"
      ],
      "metadata": {
        "colab": {
          "base_uri": "https://localhost:8080/"
        },
        "id": "rCeFdvK2Jdf_",
        "outputId": "bb89faf0-b57f-46f8-e5f3-a51e6f4f40ad"
      },
      "execution_count": 149,
      "outputs": [
        {
          "output_type": "stream",
          "name": "stdout",
          "text": [
            "10\n",
            "20\n",
            "30\n",
            "40\n",
            "5060\n",
            "45\n",
            "89\n",
            "10\n",
            "2\n",
            "0\n"
          ]
        }
      ]
    },
    {
      "cell_type": "markdown",
      "source": [
        "###Modify items in list"
      ],
      "metadata": {
        "id": "hGXErfnJ_3nE"
      }
    },
    {
      "cell_type": "code",
      "source": [
        "numbers"
      ],
      "metadata": {
        "colab": {
          "base_uri": "https://localhost:8080/"
        },
        "id": "Pber5dw5oJ1n",
        "outputId": "a23704c4-61de-41b9-9481-9ccff329ac40"
      },
      "execution_count": 150,
      "outputs": [
        {
          "output_type": "execute_result",
          "data": {
            "text/plain": [
              "[10, 20, 30, 40, 5060, 45, 89, 10, 2, 0]"
            ]
          },
          "metadata": {},
          "execution_count": 150
        }
      ]
    },
    {
      "cell_type": "code",
      "source": [
        "#Modify first item\n",
        "numbers[0]=100\n",
        "#modify last item\n",
        "numbers[-1]=10"
      ],
      "metadata": {
        "id": "RBPqruF6DNiY"
      },
      "execution_count": 151,
      "outputs": []
    },
    {
      "cell_type": "code",
      "source": [
        "numbers"
      ],
      "metadata": {
        "colab": {
          "base_uri": "https://localhost:8080/"
        },
        "id": "vw6IFdK8op2o",
        "outputId": "0697c1cf-1b11-4561-cf10-0bfdf8cf4fe4"
      },
      "execution_count": 152,
      "outputs": [
        {
          "output_type": "execute_result",
          "data": {
            "text/plain": [
              "[100, 20, 30, 40, 5060, 45, 89, 10, 2, 10]"
            ]
          },
          "metadata": {},
          "execution_count": 152
        }
      ]
    },
    {
      "cell_type": "markdown",
      "source": [
        "###Adding items in list"
      ],
      "metadata": {
        "id": "sAS9y2b6D1TP"
      }
    },
    {
      "cell_type": "code",
      "source": [
        "#using append\n",
        "numbers.append(11)\n",
        "numbers.append(12)\n",
        "numbers.append(13)"
      ],
      "metadata": {
        "id": "ImLPNguWD5ai"
      },
      "execution_count": 153,
      "outputs": []
    },
    {
      "cell_type": "code",
      "source": [
        "numbers"
      ],
      "metadata": {
        "colab": {
          "base_uri": "https://localhost:8080/"
        },
        "id": "5pvaWuzYo16c",
        "outputId": "face7e2c-c777-41eb-f5a6-e9b81fd80f40"
      },
      "execution_count": 154,
      "outputs": [
        {
          "output_type": "execute_result",
          "data": {
            "text/plain": [
              "[100, 20, 30, 40, 5060, 45, 89, 10, 2, 10, 11, 12, 13]"
            ]
          },
          "metadata": {},
          "execution_count": 154
        }
      ]
    },
    {
      "cell_type": "code",
      "source": [
        "#using insert \n",
        "numbers.insert(1,14)\n",
        "numbers"
      ],
      "metadata": {
        "colab": {
          "base_uri": "https://localhost:8080/"
        },
        "id": "dE7XFAaHD8eJ",
        "outputId": "bde6d226-0495-4a80-b875-91e31417d4fc"
      },
      "execution_count": 155,
      "outputs": [
        {
          "output_type": "execute_result",
          "data": {
            "text/plain": [
              "[100, 14, 20, 30, 40, 5060, 45, 89, 10, 2, 10, 11, 12, 13]"
            ]
          },
          "metadata": {},
          "execution_count": 155
        }
      ]
    },
    {
      "cell_type": "markdown",
      "source": [
        "###Removing items"
      ],
      "metadata": {
        "id": "E065Ohx7ECRe"
      }
    },
    {
      "cell_type": "code",
      "source": [
        "#by its position\n",
        "del numbers[0]"
      ],
      "metadata": {
        "id": "MZY_OJTdEEEl"
      },
      "execution_count": 156,
      "outputs": []
    },
    {
      "cell_type": "code",
      "source": [
        "numbers"
      ],
      "metadata": {
        "colab": {
          "base_uri": "https://localhost:8080/"
        },
        "id": "0YbOXHgsqR0E",
        "outputId": "88a28bc6-eef9-4d52-cc2d-c32698f900d5"
      },
      "execution_count": 157,
      "outputs": [
        {
          "output_type": "execute_result",
          "data": {
            "text/plain": [
              "[14, 20, 30, 40, 5060, 45, 89, 10, 2, 10, 11, 12, 13]"
            ]
          },
          "metadata": {},
          "execution_count": 157
        }
      ]
    },
    {
      "cell_type": "code",
      "source": [
        "#remove specific item\n",
        "numbers.remove(5060)"
      ],
      "metadata": {
        "id": "gtor5y9HEG45"
      },
      "execution_count": 158,
      "outputs": []
    },
    {
      "cell_type": "code",
      "source": [
        "numbers"
      ],
      "metadata": {
        "colab": {
          "base_uri": "https://localhost:8080/"
        },
        "id": "dibUN0sDqYMt",
        "outputId": "c31ad550-7050-4d7c-a9d3-66235eafe405"
      },
      "execution_count": 159,
      "outputs": [
        {
          "output_type": "execute_result",
          "data": {
            "text/plain": [
              "[14, 20, 30, 40, 45, 89, 10, 2, 10, 11, 12, 13]"
            ]
          },
          "metadata": {},
          "execution_count": 159
        }
      ]
    },
    {
      "cell_type": "markdown",
      "source": [
        "###Pop items from list"
      ],
      "metadata": {
        "id": "qaOYFZaNEb-p"
      }
    },
    {
      "cell_type": "code",
      "source": [
        "#pop last item\n",
        "removed_item = numbers.pop()\n",
        "print('removed item ' ,removed_item )\n",
        "numbers"
      ],
      "metadata": {
        "colab": {
          "base_uri": "https://localhost:8080/"
        },
        "id": "gY2KQlKhEeSL",
        "outputId": "ee1aaf37-4426-47e8-f84a-7f599e1003ca"
      },
      "execution_count": 160,
      "outputs": [
        {
          "output_type": "stream",
          "name": "stdout",
          "text": [
            "removed item  13\n"
          ]
        },
        {
          "output_type": "execute_result",
          "data": {
            "text/plain": [
              "[14, 20, 30, 40, 45, 89, 10, 2, 10, 11, 12]"
            ]
          },
          "metadata": {},
          "execution_count": 160
        }
      ]
    },
    {
      "cell_type": "code",
      "source": [
        "#pop first item\n",
        "removed_item = numbers.pop(0)\n",
        "print('removed item ' ,removed_item )\n",
        "numbers"
      ],
      "metadata": {
        "colab": {
          "base_uri": "https://localhost:8080/"
        },
        "id": "p1wohslREg1N",
        "outputId": "cfd63801-c547-49b7-f847-6033615452fc"
      },
      "execution_count": 161,
      "outputs": [
        {
          "output_type": "stream",
          "name": "stdout",
          "text": [
            "removed item  14\n"
          ]
        },
        {
          "output_type": "execute_result",
          "data": {
            "text/plain": [
              "[20, 30, 40, 45, 89, 10, 2, 10, 11, 12]"
            ]
          },
          "metadata": {},
          "execution_count": 161
        }
      ]
    },
    {
      "cell_type": "code",
      "source": [
        "#pop specific item\n",
        "removed_item = numbers.pop(2)\n",
        "print('removed item ' ,removed_item )\n",
        "numbers"
      ],
      "metadata": {
        "colab": {
          "base_uri": "https://localhost:8080/"
        },
        "id": "3_ZjPAmqEjOe",
        "outputId": "9ad9538f-db39-4171-ae09-6619e601dbeb"
      },
      "execution_count": 162,
      "outputs": [
        {
          "output_type": "stream",
          "name": "stdout",
          "text": [
            "removed item  40\n"
          ]
        },
        {
          "output_type": "execute_result",
          "data": {
            "text/plain": [
              "[20, 30, 45, 89, 10, 2, 10, 11, 12]"
            ]
          },
          "metadata": {},
          "execution_count": 162
        }
      ]
    },
    {
      "cell_type": "markdown",
      "source": [
        "###Sorting list"
      ],
      "metadata": {
        "id": "HBWqxA1QExdj"
      }
    },
    {
      "cell_type": "code",
      "source": [
        "#Sorting permanently using sort\n",
        "print(numbers.sort())\n",
        "numbers"
      ],
      "metadata": {
        "colab": {
          "base_uri": "https://localhost:8080/"
        },
        "id": "590qsLKEE-py",
        "outputId": "7ef9d750-db2c-40f6-b6ca-c504d1d99439"
      },
      "execution_count": 163,
      "outputs": [
        {
          "output_type": "stream",
          "name": "stdout",
          "text": [
            "None\n"
          ]
        },
        {
          "output_type": "execute_result",
          "data": {
            "text/plain": [
              "[2, 10, 10, 11, 12, 20, 30, 45, 89]"
            ]
          },
          "metadata": {},
          "execution_count": 163
        }
      ]
    },
    {
      "cell_type": "code",
      "source": [
        "#Sorting permanently using sort in descending order\n",
        "print(numbers.sort(reverse=True))\n",
        "numbers"
      ],
      "metadata": {
        "colab": {
          "base_uri": "https://localhost:8080/"
        },
        "id": "ThzIk39lFNL0",
        "outputId": "d2f07c1a-22b8-47ae-e1d0-37e725a4c0d0"
      },
      "execution_count": 164,
      "outputs": [
        {
          "output_type": "stream",
          "name": "stdout",
          "text": [
            "None\n"
          ]
        },
        {
          "output_type": "execute_result",
          "data": {
            "text/plain": [
              "[89, 45, 30, 20, 12, 11, 10, 10, 2]"
            ]
          },
          "metadata": {},
          "execution_count": 164
        }
      ]
    },
    {
      "cell_type": "code",
      "source": [
        "#Sorting temporarily using sorted\n",
        "print(sorted(numbers))\n",
        "numbers"
      ],
      "metadata": {
        "colab": {
          "base_uri": "https://localhost:8080/"
        },
        "id": "Du3iTAzhFb-j",
        "outputId": "d6882118-4af2-422b-d9a3-99cb9a60d055"
      },
      "execution_count": 165,
      "outputs": [
        {
          "output_type": "stream",
          "name": "stdout",
          "text": [
            "[2, 10, 10, 11, 12, 20, 30, 45, 89]\n"
          ]
        },
        {
          "output_type": "execute_result",
          "data": {
            "text/plain": [
              "[89, 45, 30, 20, 12, 11, 10, 10, 2]"
            ]
          },
          "metadata": {},
          "execution_count": 165
        }
      ]
    },
    {
      "cell_type": "code",
      "source": [
        "##Sorting temporarily using sorted in descending order\n",
        "print(sorted(numbers,reverse=True))\n",
        "numbers"
      ],
      "metadata": {
        "colab": {
          "base_uri": "https://localhost:8080/"
        },
        "id": "-2DuCOzZFhcX",
        "outputId": "0c9adfce-582f-4757-b68b-2d0240020132"
      },
      "execution_count": 166,
      "outputs": [
        {
          "output_type": "stream",
          "name": "stdout",
          "text": [
            "[89, 45, 30, 20, 12, 11, 10, 10, 2]\n"
          ]
        },
        {
          "output_type": "execute_result",
          "data": {
            "text/plain": [
              "[89, 45, 30, 20, 12, 11, 10, 10, 2]"
            ]
          },
          "metadata": {},
          "execution_count": 166
        }
      ]
    },
    {
      "cell_type": "markdown",
      "source": [
        "###Reverse a List"
      ],
      "metadata": {
        "id": "aIivH0gLFp6s"
      }
    },
    {
      "cell_type": "code",
      "source": [
        "no = [12, 234, 56, 78, 90]\n",
        "no.reverse()\n",
        "no"
      ],
      "metadata": {
        "colab": {
          "base_uri": "https://localhost:8080/"
        },
        "id": "_qwUEld4BNZ7",
        "outputId": "0ab60ec3-f33b-4668-9324-4c0205b20d68"
      },
      "execution_count": 167,
      "outputs": [
        {
          "output_type": "execute_result",
          "data": {
            "text/plain": [
              "[90, 78, 56, 234, 12]"
            ]
          },
          "metadata": {},
          "execution_count": 167
        }
      ]
    },
    {
      "cell_type": "code",
      "source": [
        "#Get items in reverse order"
      ],
      "metadata": {
        "id": "9IDXotmZFsWO"
      },
      "execution_count": 168,
      "outputs": []
    }
  ]
}